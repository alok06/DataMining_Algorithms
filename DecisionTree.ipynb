{
  "nbformat": 4,
  "nbformat_minor": 0,
  "metadata": {
    "colab": {
      "name": "DecisionTree.ipynb",
      "provenance": [],
      "collapsed_sections": []
    },
    "kernelspec": {
      "name": "python3",
      "display_name": "Python 3"
    }
  },
  "cells": [
    {
      "cell_type": "code",
      "metadata": {
        "id": "-9RGGK89Rh93"
      },
      "source": [
        "import numpy as np\n",
        "import pandas as pd\n",
        "import random\n",
        "from sklearn.model_selection import train_test_split\n",
        "import sys"
      ],
      "execution_count": null,
      "outputs": []
    },
    {
      "cell_type": "code",
      "metadata": {
        "id": "W4sWbJmTR9ED"
      },
      "source": [
        "dataframe = pd.read_csv('Car_Dataset.txt',header = None, names = ['A','B','C','D','E','F','Class'])"
      ],
      "execution_count": null,
      "outputs": []
    },
    {
      "cell_type": "code",
      "metadata": {
        "id": "QeuvgRmy4R9u"
      },
      "source": [
        "X_train,X_test = train_test_split(dataframe,test_size=0.3)"
      ],
      "execution_count": null,
      "outputs": []
    },
    {
      "cell_type": "code",
      "metadata": {
        "id": "B8so4kwo44fE"
      },
      "source": [
        "def createdct(dataset, features, label, parent = None):\r\n",
        "    data = np.unique(dataset[label],return_counts = True)\r\n",
        "    unq = np.unique(dataset[label])\r\n",
        "\r\n",
        "    l1 = len(unq)\r\n",
        "\r\n",
        "    if l1 == 1:        \r\n",
        "        return unq[0]\r\n",
        "    elif len(dataset) == 0:\r\n",
        "        return unq[np.argmax(DATA[1])]\r\n",
        "    \r\n",
        "    elif len(features) == 0:\r\n",
        "        return parent\r\n",
        "    else:\r\n",
        "        parent = unq[np.argmax(DATA[1])]\r\n",
        "        IG = [information_gain(dataset,feature,label) for feature in features]\r\n",
        "        split_feature = features[np.argmax(IG)]\r\n",
        "        DT = {'Split Feature':split_feature}\r\n",
        "\r\n",
        "        for value in np.unique(dataset[split_feature]):\r\n",
        "            new_features = [i for i in features if i != split_feature]\r\n",
        "            new_dataset = dataset.where(dataset[split_feature] == value).dropna()\r\n",
        "            new_tree = createdct(new_dataset, new_features, label, parent)\r\n",
        "            DT[value] = new_tree\r\n",
        "    return DT"
      ],
      "execution_count": null,
      "outputs": []
    },
    {
      "cell_type": "code",
      "metadata": {
        "id": "qGauD1L3UqlV"
      },
      "source": [
        "def entropy(df,label):\n",
        "    value,count = np.unique(df[label],return_counts = True)\n",
        "    ln = len(count)\n",
        "    return sum((-count[i]/np.sum(count))*np.log2(count[i]/np.sum(count)) for i in range(ln))"
      ],
      "execution_count": null,
      "outputs": []
    },
    {
      "cell_type": "code",
      "metadata": {
        "id": "PSq_ao4VbR2w"
      },
      "source": [
        "def information_gain(df,feature,label):\n",
        "    ent = entropy(df,label)\n",
        "    value,count = np.unique(df[feature],return_counts = True)\n",
        "    length = len(count)\n",
        "    return ent-sum((count[i]/sum(count))*entropy(df.where(df[feature]==value[i]).dropna(),label) for i in range(length))"
      ],
      "execution_count": null,
      "outputs": []
    },
    {
      "cell_type": "code",
      "metadata": {
        "id": "zruPV-pTdMZA"
      },
      "source": [
        "\n",
        "\n",
        "def generation_rules(decisiontree, rules, lst = [], split_feature = None):\n",
        "    split_feature = decisiontree['Split Feature']\n",
        "    for x in decisiontree:\n",
        "        new_list = list(lst)\n",
        "        if x!= 'Split Feature':\n",
        "            if type(decisiontree[x]) == dict:\n",
        "                new_list.append((split_feature, x))\n",
        "                Generate_Rules(decisiontree[x],rules,new_list,split_feature)\n",
        "            else:\n",
        "                new_list.append((split_feature,x))\n",
        "                if decisiontree[x] not in rules:\n",
        "                    rules[decisiontree[x]] = set()\n",
        "                rules[decisiontree[x]].add(tuple(new_list))"
      ],
      "execution_count": null,
      "outputs": []
    },
    {
      "cell_type": "code",
      "metadata": {
        "id": "0EppTv6Uctuk"
      },
      "source": [
        "features = list(dataframe.columns)\n",
        "features.remove('Class')\n",
        "decisiontree = CREATE_DECISSION_TREE(X_train,features,'Class')\n",
        "\n",
        "rules = {}\n",
        "generation_rules(decisiontree,rules)"
      ],
      "execution_count": null,
      "outputs": []
    },
    {
      "cell_type": "code",
      "metadata": {
        "colab": {
          "base_uri": "https://localhost:8080/"
        },
        "id": "x0X8ecN7de-V",
        "outputId": "8d5b7bcb-e0ff-414e-e4dd-d35611a28a41"
      },
      "source": [
        "print(decisiontree)"
      ],
      "execution_count": null,
      "outputs": [
        {
          "output_type": "stream",
          "text": [
            "{'Split Feature': 'F', 'high': {'Split Feature': 'D', '2': 'unacc', '4': {'Split Feature': 'A', 'high': {'Split Feature': 'B', 'high': 'acc', 'low': 'acc', 'med': 'acc', 'vhigh': 'unacc'}, 'low': {'Split Feature': 'B', 'high': {'Split Feature': 'E', 'big': 'vgood', 'med': {'Split Feature': 'C', '3': 'acc', '4': 'vgood'}, 'small': 'acc'}, 'low': {'Split Feature': 'E', 'big': 'vgood', 'med': {'Split Feature': 'C', '3': 'good', '4': 'vgood', '5more': 'vgood'}, 'small': 'good'}, 'med': {'Split Feature': 'C', '2': {'Split Feature': 'E', 'big': 'vgood', 'small': 'good'}, '3': 'good', '4': 'vgood', '5more': 'vgood'}, 'vhigh': 'acc'}, 'med': {'Split Feature': 'B', 'high': 'acc', 'low': {'Split Feature': 'E', 'big': 'vgood', 'med': 'vgood', 'small': 'good'}, 'med': {'Split Feature': 'E', 'big': 'vgood', 'med': {'Split Feature': 'C', '2': 'acc', '3': 'acc', '4': 'vgood', '5more': 'vgood'}, 'small': 'acc'}, 'vhigh': 'acc'}, 'vhigh': {'Split Feature': 'B', 'high': 'unacc', 'low': 'acc', 'med': 'acc', 'vhigh': 'unacc'}}, 'more': {'Split Feature': 'A', 'high': {'Split Feature': 'B', 'high': {'Split Feature': 'C', '2': {'Split Feature': 'E', 'med': 'acc', 'small': 'unacc'}, '3': 'acc', '4': 'acc', '5more': 'acc'}, 'low': {'Split Feature': 'C', '2': {'Split Feature': 'E', 'big': 'acc', 'small': 'unacc'}, '3': 'acc', '4': 'acc', '5more': 'acc'}, 'med': {'Split Feature': 'C', '2': {'Split Feature': 'E', 'big': 'acc', 'small': 'unacc'}, '3': 'acc', '4': 'acc', '5more': 'acc'}, 'vhigh': 'unacc'}, 'low': {'Split Feature': 'B', 'high': {'Split Feature': 'E', 'big': 'vgood', 'med': {'Split Feature': 'C', '2': 'acc', '4': 'vgood', '5more': 'vgood'}, 'small': {'Split Feature': 'C', '2': 'unacc', '4': 'acc', '5more': 'acc'}}, 'low': {'Split Feature': 'E', 'big': 'vgood', 'med': {'Split Feature': 'C', '2': 'good', '4': 'vgood', '5more': 'vgood'}, 'small': 'good'}, 'med': {'Split Feature': 'E', 'big': 'vgood', 'med': {'Split Feature': 'C', '2': 'good', '3': 'vgood', '4': 'vgood', '5more': 'vgood'}, 'small': 'good'}, 'vhigh': {'Split Feature': 'C', '2': {'Split Feature': 'E', 'big': 'acc', 'med': 'acc', 'small': 'unacc'}, '3': 'acc', '4': 'acc', '5more': 'acc'}}, 'med': {'Split Feature': 'B', 'high': {'Split Feature': 'C', '2': {'Split Feature': 'E', 'med': 'acc', 'small': 'unacc'}, '3': 'acc', '4': 'acc', '5more': 'acc'}, 'low': {'Split Feature': 'E', 'big': 'vgood', 'med': {'Split Feature': 'C', '2': 'good', '3': 'vgood', '5more': 'vgood'}, 'small': {'Split Feature': 'C', '2': 'unacc', '4': 'good'}}, 'med': {'Split Feature': 'E', 'big': 'vgood', 'med': 'vgood', 'small': {'Split Feature': 'C', '2': 'unacc', '3': 'acc', '4': 'acc', '5more': 'acc'}}, 'vhigh': 'acc'}, 'vhigh': {'Split Feature': 'B', 'high': 'unacc', 'low': {'Split Feature': 'C', '2': {'Split Feature': 'E', 'big': 'acc', 'med': 'acc', 'small': 'unacc'}, '3': 'acc', '4': 'acc', '5more': 'acc'}, 'med': {'Split Feature': 'C', '2': {'Split Feature': 'E', 'med': 'acc', 'small': 'unacc'}, '3': 'acc', '4': 'acc', '5more': 'acc'}, 'vhigh': 'unacc'}}}, 'low': 'unacc', 'med': {'Split Feature': 'D', '2': 'unacc', '4': {'Split Feature': 'A', 'high': {'Split Feature': 'E', 'big': {'Split Feature': 'B', 'high': 'acc', 'low': 'acc', 'med': 'acc', 'vhigh': 'unacc'}, 'med': {'Split Feature': 'B', 'high': {'Split Feature': 'C', '2': 'unacc', '3': 'unacc', '5more': 'acc'}, 'low': 'acc', 'med': {'Split Feature': 'C', '3': 'unacc', '4': 'acc', '5more': 'acc'}, 'vhigh': 'unacc'}, 'small': 'unacc'}, 'low': {'Split Feature': 'B', 'high': 'acc', 'low': {'Split Feature': 'E', 'big': 'good', 'med': 'good', 'small': 'acc'}, 'med': {'Split Feature': 'E', 'big': 'good', 'med': {'Split Feature': 'C', '2': 'acc', '4': 'good', '5more': 'good'}, 'small': 'acc'}, 'vhigh': {'Split Feature': 'E', 'big': 'acc', 'med': {'Split Feature': 'C', '2': 'unacc', '3': 'unacc', '4': 'acc', '5more': 'acc'}, 'small': 'unacc'}}, 'med': {'Split Feature': 'B', 'high': {'Split Feature': 'E', 'big': 'acc', 'med': {'Split Feature': 'C', '2': 'unacc', '3': 'unacc', '4': 'acc'}, 'small': 'unacc'}, 'low': {'Split Feature': 'E', 'big': 'good', 'med': {'Split Feature': 'C', '2': 'acc', '3': 'acc', '4': 'good', '5more': 'good'}, 'small': 'acc'}, 'med': 'acc', 'vhigh': {'Split Feature': 'E', 'big': 'acc', 'med': {'Split Feature': 'C', '3': 'unacc', '5more': 'acc'}, 'small': 'unacc'}}, 'vhigh': {'Split Feature': 'B', 'high': 'unacc', 'low': {'Split Feature': 'E', 'big': 'acc', 'med': 'unacc', 'small': 'unacc'}, 'med': {'Split Feature': 'E', 'big': 'acc', 'med': {'Split Feature': 'C', '2': 'unacc', '3': 'unacc', '4': 'acc', '5more': 'acc'}, 'small': 'unacc'}, 'vhigh': 'unacc'}}, 'more': {'Split Feature': 'A', 'high': {'Split Feature': 'E', 'big': {'Split Feature': 'B', 'high': 'acc', 'low': 'acc', 'med': 'acc', 'vhigh': 'unacc'}, 'med': {'Split Feature': 'B', 'high': {'Split Feature': 'C', '2': 'unacc', '4': 'acc'}, 'low': {'Split Feature': 'C', '2': 'unacc', '5more': 'acc'}, 'med': {'Split Feature': 'C', '2': 'unacc', '3': 'acc', '4': 'acc'}, 'vhigh': 'unacc'}, 'small': 'unacc'}, 'low': {'Split Feature': 'B', 'high': {'Split Feature': 'E', 'big': 'acc', 'med': 'acc', 'small': {'Split Feature': 'C', '2': 'unacc', '5more': 'acc'}}, 'low': {'Split Feature': 'E', 'big': 'good', 'med': {'Split Feature': 'C', '2': 'acc', '4': 'good', '5more': 'good'}, 'small': 'acc'}, 'med': {'Split Feature': 'C', '2': 'good', '3': 'good', '4': 'good', '5more': 'acc'}, 'vhigh': {'Split Feature': 'E', 'big': 'acc', 'med': {'Split Feature': 'C', '2': 'unacc', '3': 'acc', '5more': 'acc'}, 'small': 'unacc'}}, 'med': {'Split Feature': 'B', 'high': {'Split Feature': 'E', 'big': 'acc', 'med': {'Split Feature': 'C', '2': 'unacc', '3': 'acc', '5more': 'acc'}, 'small': 'unacc'}, 'low': {'Split Feature': 'E', 'big': 'good', 'med': {'Split Feature': 'C', '2': 'acc', '4': 'good', '5more': 'good'}, 'small': {'Split Feature': 'C', '2': 'unacc', '4': 'acc'}}, 'med': 'acc', 'vhigh': {'Split Feature': 'E', 'big': 'acc', 'med': {'Split Feature': 'C', '2': 'unacc', '3': 'acc', '4': 'acc', '5more': 'acc'}, 'small': 'unacc'}}, 'vhigh': {'Split Feature': 'B', 'high': 'unacc', 'low': {'Split Feature': 'E', 'big': 'acc', 'med': 'acc', 'small': 'unacc'}, 'med': {'Split Feature': 'E', 'big': 'acc', 'med': {'Split Feature': 'C', '2': 'unacc', '4': 'acc'}, 'small': 'unacc'}, 'vhigh': 'unacc'}}}}\n"
          ],
          "name": "stdout"
        }
      ]
    }
  ]
}