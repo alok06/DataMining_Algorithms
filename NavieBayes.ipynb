{
  "nbformat": 4,
  "nbformat_minor": 0,
  "metadata": {
    "colab": {
      "name": "NavieBayes.ipynb",
      "provenance": []
    },
    "kernelspec": {
      "name": "python3",
      "display_name": "Python 3"
    }
  },
  "cells": [
    {
      "cell_type": "code",
      "metadata": {
        "id": "SJ6s31rYTrU-"
      },
      "source": [
        "import pandas\r\n",
        "from math import inf\r\n",
        "data_list=pandas.read_excel('DATASET.xlsx')\r\n",
        "data_list=data_list.drop(columns=['Example'])"
      ],
      "execution_count": null,
      "outputs": []
    },
    {
      "cell_type": "code",
      "metadata": {
        "id": "1O5L02bcYJr9"
      },
      "source": [
        "data_list"
      ],
      "execution_count": null,
      "outputs": []
    },
    {
      "cell_type": "code",
      "metadata": {
        "id": "in_x9p3eYeNV"
      },
      "source": [
        "def predict(x,data_list,target_column):\r\n",
        "    max_probablity=(-inf,None)\r\n",
        "    columns=[i for i in data_list.columns if i != target_column]\r\n",
        "    for target,target_data in data_list.groupby(target_column):\r\n",
        "      target_probablity=1\r\n",
        "      length_target_data=len(target_data) + 1\r\n",
        "      length=len(data_list)\r\n",
        "      for index, column in enumerate(columns):\r\n",
        "        target_probablity *= (1+len(target_data.loc[target_data[column] == x[index]]))/length_target_data\r\n",
        "      target_probablity *= length_target_data/length\r\n",
        "      if target_probablity>max_probablity[0]:\r\n",
        "        max_probablity=(target_probablity, target)   \r\n",
        "    return max_probablity[1]"
      ],
      "execution_count": null,
      "outputs": []
    },
    {
      "cell_type": "code",
      "metadata": {
        "colab": {
          "base_uri": "https://localhost:8080/",
          "height": 35
        },
        "id": "AgQQnd7BYnib",
        "outputId": "3d13ae8a-fb40-4a22-d2f1-d3ae145c354e"
      },
      "source": [
        "predict(('T', 'T', 'F', 'T', 'Some', '$$$', 'T', 'T', 'Italian', '>60'),data_list,'Target Wait')"
      ],
      "execution_count": 17,
      "outputs": [
        {
          "output_type": "execute_result",
          "data": {
            "application/vnd.google.colaboratory.intrinsic+json": {
              "type": "string"
            },
            "text/plain": [
              "'T'"
            ]
          },
          "metadata": {
            "tags": []
          },
          "execution_count": 17
        }
      ]
    }
  ]
}